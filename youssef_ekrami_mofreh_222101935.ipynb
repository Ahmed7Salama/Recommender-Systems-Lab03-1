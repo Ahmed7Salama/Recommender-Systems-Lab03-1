{
 "cells": [
  {
   "cell_type": "code",
   "execution_count": 1,
   "id": "9b7ad6b1",
   "metadata": {},
   "outputs": [],
   "source": [
    "import numpy as np"
   ]
  },
  {
   "cell_type": "markdown",
   "id": "971b7ce2",
   "metadata": {},
   "source": [
    "# Calculate **cosine similarity** between two users #\n"
   ]
  },
  {
   "cell_type": "code",
   "execution_count": 2,
   "id": "d94d8a63",
   "metadata": {},
   "outputs": [],
   "source": [
    "def cosine_similarity(user1, user2):\n",
    "    \"\"\"Calculate cosine similarity between two users\"\"\"\n",
    "\n",
    "    mask = (user1 != 0) & (user2 != 0)\n",
    "\n",
    "    if not np.any(mask):\n",
    "        return 0\n",
    "\n",
    "    u1 = user1[mask]\n",
    "    u2 = user2[mask]\n",
    "\n",
    "    dot_product = np.sum(u1 * u2)\n",
    "\n",
    "    magnitude1 = np.sqrt(np.sum(u1 ** 2))\n",
    "    magnitude2 = np.sqrt(np.sum(u2 ** 2))\n",
    "\n",
    "    if magnitude1 == 0 or magnitude2 == 0:\n",
    "        return 0\n",
    "\n",
    "    return dot_product / (magnitude1 * magnitude2)\n"
   ]
  },
  {
   "cell_type": "code",
   "execution_count": 3,
   "id": "fb92e6e4",
   "metadata": {},
   "outputs": [
    {
     "name": "stdout",
     "output_type": "stream",
     "text": [
      "Cosine Similarity A-B: 0.994\n",
      "Cosine Similarity A-C: 0.975\n"
     ]
    }
   ],
   "source": [
    "\n",
    "user_A = np.array([5, 3, 0, 4, 0, 2])\n",
    "user_B = np.array([3, 0, 2, 3, 3, 0])\n",
    "user_C = np.array([4, 3, 4, 3, 5, 3])\n",
    "\n",
    "similarity_AB = cosine_similarity(user_A, user_B)\n",
    "similarity_AC = cosine_similarity(user_A, user_C)\n",
    "\n",
    "print(f\"Cosine Similarity A-B: {similarity_AB:.3f}\")\n",
    "print(f\"Cosine Similarity A-C: {similarity_AC:.3f}\")\n"
   ]
  }
 ],
 "metadata": {
  "kernelspec": {
   "display_name": "Python 3",
   "language": "python",
   "name": "python3"
  },
  "language_info": {
   "codemirror_mode": {
    "name": "ipython",
    "version": 3
   },
   "file_extension": ".py",
   "mimetype": "text/x-python",
   "name": "python",
   "nbconvert_exporter": "python",
   "pygments_lexer": "ipython3",
   "version": "3.13.7"
  }
 },
 "nbformat": 4,
 "nbformat_minor": 5
}
